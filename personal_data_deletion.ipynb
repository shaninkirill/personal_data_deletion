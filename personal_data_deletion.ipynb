{
 "cells": [
  {
   "cell_type": "markdown",
   "id": "37943e5d",
   "metadata": {},
   "source": [
    "# Решение задачи NER (Named-entity recognition): удаление персональных данных с использованием обученной модели"
   ]
  },
  {
   "cell_type": "markdown",
   "id": "ce177b15",
   "metadata": {},
   "source": [
    "### Импортируем необходимые библиотеки"
   ]
  },
  {
   "cell_type": "code",
   "execution_count": 1,
   "id": "214d9abf-a521-496c-b97c-9a5a58cf5f78",
   "metadata": {},
   "outputs": [
    {
     "name": "stderr",
     "output_type": "stream",
     "text": [
      "2024-07-16 12:38:08.478389: I tensorflow/core/util/port.cc:110] oneDNN custom operations are on. You may see slightly different numerical results due to floating-point round-off errors from different computation orders. To turn them off, set the environment variable `TF_ENABLE_ONEDNN_OPTS=0`.\n",
      "2024-07-16 12:38:08.527918: I tensorflow/core/platform/cpu_feature_guard.cc:182] This TensorFlow binary is optimized to use available CPU instructions in performance-critical operations.\n",
      "To enable the following instructions: AVX2 AVX512F AVX512_VNNI FMA, in other operations, rebuild TensorFlow with the appropriate compiler flags.\n",
      "2024-07-16 12:38:09.284244: W tensorflow/compiler/tf2tensorrt/utils/py_utils.cc:38] TF-TRT Warning: Could not find TensorRT\n"
     ]
    }
   ],
   "source": [
    "from transformers import pipeline\n",
    "import string"
   ]
  },
  {
   "cell_type": "markdown",
   "id": "33ba6094",
   "metadata": {},
   "source": [
    "### Загружаем модель "
   ]
  },
  {
   "cell_type": "code",
   "execution_count": 2,
   "id": "8960261c-30e5-48b1-8276-53255ca11c34",
   "metadata": {},
   "outputs": [
    {
     "name": "stderr",
     "output_type": "stream",
     "text": [
      "/home/osipov/.local/lib/python3.10/site-packages/torch/_utils.py:831: UserWarning: TypedStorage is deprecated. It will be removed in the future and UntypedStorage will be the only storage class. This should only matter to you if you are using storages directly.  To access UntypedStorage directly, use tensor.untyped_storage() instead of tensor.storage()\n",
      "  return self.fget.__get__(instance, owner)()\n"
     ]
    }
   ],
   "source": [
    "pipe = pipeline(\"token-classification\", model=\"mdarhri00/named-entity-recognition\") "
   ]
  },
  {
   "cell_type": "markdown",
   "id": "e399c18d",
   "metadata": {},
   "source": [
    "### Создаем текст, из которого хотим удалить персональные данные. В качестве примера возмем несуществующего человека с несуществующими данными"
   ]
  },
  {
   "cell_type": "code",
   "execution_count": 3,
   "id": "5e0d3fcc-c675-43cc-9077-623d0b4a93f2",
   "metadata": {},
   "outputs": [],
   "source": [
    "text = \"\"\"Уважаемый Иванов Иван, Я Сергеев Сергей Сергеевич,пенсионер, проживаю Московская обл. с.Крутое, ул.Пушкина дом Колотушкина обращаюсь к Вам с прозьбой \n",
    "разобраться с нашим интернетом.Я заплатил за это 1 рубль. Три месяца назад обратился в районный сервис с проблемой низкой скоростью. Поставили на очередь в областной центр к специалисту и вот\n",
    " в течении трех месяцев жду вызов.За время ожидания парсеры совсем перестали работать. Пишу за себя,но знаю что идет обман многих. Прозьба понять и сделать вывод. С большим Уважением .Сергей.т +79909090900. я знаю как они звонят, скажут просто что трубку не берут,мой  № 89909090900 ,мой  №89909090900. Мой емайл адрес - ivanov@example.com. Жду\"\"\""
   ]
  },
  {
   "cell_type": "code",
   "execution_count": 4,
   "id": "82725c7b-112b-4d77-aa6b-f9f9b45302e3",
   "metadata": {},
   "outputs": [],
   "source": [
    "result = pipe(text)"
   ]
  },
  {
   "cell_type": "markdown",
   "id": "bde360f4",
   "metadata": {},
   "source": [
    "### Выделяем сущности, которые хотим удалить"
   ]
  },
  {
   "cell_type": "code",
   "execution_count": 5,
   "id": "44c21bb0-87eb-4abf-b0a3-eae487bbaac2",
   "metadata": {},
   "outputs": [],
   "source": [
    "censorship_entity = ['Person_Name', 'Identification_Number', 'phone_number', 'email', 'Brand_vehicule', 'location']"
   ]
  },
  {
   "cell_type": "code",
   "execution_count": 6,
   "id": "bb7c9b72-eada-4eb0-b532-c682c164e05c",
   "metadata": {},
   "outputs": [],
   "source": [
    "special_characters = string.punctuation"
   ]
  },
  {
   "cell_type": "markdown",
   "id": "320959bc",
   "metadata": {},
   "source": [
    "### Создаем функцию замены персональных данных на звездочки"
   ]
  },
  {
   "cell_type": "code",
   "execution_count": 7,
   "id": "9cfd0ca2-241f-408b-8f88-2478ed147902",
   "metadata": {},
   "outputs": [],
   "source": [
    "def replace_with_asterisks(text, start, end):\n",
    "  return text[:start] + \"*\" * (end - start) + text[end:]"
   ]
  },
  {
   "cell_type": "markdown",
   "id": "d567dd20",
   "metadata": {},
   "source": [
    "### Заменяем"
   ]
  },
  {
   "cell_type": "code",
   "execution_count": 8,
   "id": "776aba5e-309d-4af4-9939-8cc9483efcbf",
   "metadata": {},
   "outputs": [],
   "source": [
    "for data in result:\n",
    "    if data['entity'] in censorship_entity and data['word'] not in special_characters:\n",
    "        text = replace_with_asterisks(text, data['start'], data['end'])"
   ]
  },
  {
   "cell_type": "markdown",
   "id": "00f045dc",
   "metadata": {},
   "source": [
    "### Итог"
   ]
  },
  {
   "cell_type": "code",
   "execution_count": 9,
   "id": "62304da2-0669-495e-8ff9-c67270f59cc1",
   "metadata": {},
   "outputs": [
    {
     "data": {
      "text/plain": [
       "'Уважаемый ****** ****, Я ******* ****** *********,пенсионер, проживаю ********** ***. *.******, **.******* дом *********** обращаюсь к Вам с прозьбой \\nразобраться с нашим интернетом.Я заплатил за это 1 рубль. Три месяца назад обратился в районный сервис с проблемой низкой скоростью. Поставили на очередь в областной центр к специалисту и вот\\n в течении трех месяцев жду вызов.За время ожидания парсеры совсем перестали работать. Пишу за себя,но знаю что идет обман многих. Прозьба понять и сделать вывод. С большим Уважением .******.т +***********. я знаю как они звонят, скажут просто что трубку не берут,мой  № *********** ,мой  №***********. \\n Мой емайл адрес - ******@*******.***. Жду'"
      ]
     },
     "execution_count": 9,
     "metadata": {},
     "output_type": "execute_result"
    }
   ],
   "source": [
    "text"
   ]
  },
  {
   "cell_type": "markdown",
   "id": "4cd37958",
   "metadata": {},
   "source": [
    "### Конечно, можно было бы применить дополнительно какую-либо модель генерации текста с возможным промтом \"Удали звездочки и приведи текст в нормальную форму\" для формирования качественного текста и последующего использования. Однако здесь я лишь хотел показать один из способов удаления персональных данных. "
   ]
  }
 ],
 "metadata": {
  "kernelspec": {
   "display_name": "Python 3 (ipykernel)",
   "language": "python",
   "name": "python3"
  },
  "language_info": {
   "codemirror_mode": {
    "name": "ipython",
    "version": 3
   },
   "file_extension": ".py",
   "mimetype": "text/x-python",
   "name": "python",
   "nbconvert_exporter": "python",
   "pygments_lexer": "ipython3",
   "version": "3.10.11"
  }
 },
 "nbformat": 4,
 "nbformat_minor": 5
}
